{
 "cells": [
  {
   "cell_type": "code",
   "execution_count": 28,
   "id": "2723529a-957b-4ce2-b711-7c5ac9d887a0",
   "metadata": {},
   "outputs": [],
   "source": [
    "import numpy as np\n",
    "import pandas as pd\n",
    "\n",
    "import string\n",
    "import re\n",
    "import nltk\n",
    "import pickle"
   ]
  },
  {
   "cell_type": "code",
   "execution_count": 29,
   "id": "f148f9bc-4a7c-4e14-9a69-448fe2d484b1",
   "metadata": {},
   "outputs": [],
   "source": [
    "def remove_links(text):\n",
    "    # Define a regular expression pattern to match URLs\n",
    "    url_pattern = re.compile(r'https?://\\S+|www\\.\\S+')\n",
    "    \n",
    "    # Use sub() method to replace URLs with an empty string\n",
    "    text_without_links = url_pattern.sub('', text)\n",
    "    \n",
    "    return text_without_links"
   ]
  },
  {
   "cell_type": "code",
   "execution_count": 30,
   "id": "d3c43945-a2bf-414c-bcef-e87f551981f3",
   "metadata": {},
   "outputs": [],
   "source": [
    "def remove_punctuation(text):\n",
    "    translator = str.maketrans('', '', string.punctuation)\n",
    "    text_without_punct = text.translate(translator)\n",
    "    return text_without_punct"
   ]
  },
  {
   "cell_type": "code",
   "execution_count": 31,
   "id": "8bbbcdd4-383e-466b-aae1-029b403313b1",
   "metadata": {},
   "outputs": [],
   "source": [
    "def remove_numbers(text):\n",
    "    # Define a regular expression pattern to match numbers\n",
    "    number_pattern = re.compile(r'\\d+')\n",
    "    \n",
    "    # Use sub() method to replace numbers with an empty string\n",
    "    text_without_numbers = number_pattern.sub('', text)\n",
    "    \n",
    "    return text_without_numbers"
   ]
  },
  {
   "cell_type": "code",
   "execution_count": 32,
   "id": "7b621d2b-8df1-4eff-8b74-f4348f2235fe",
   "metadata": {},
   "outputs": [],
   "source": [
    "with open('../static/model/model.pickle', 'rb') as f:\n",
    "    model = pickle.load(f)"
   ]
  },
  {
   "cell_type": "code",
   "execution_count": 33,
   "id": "41c5c1bf-1f9f-48ed-97e6-d8e0780fa103",
   "metadata": {},
   "outputs": [],
   "source": [
    "with open('../static/model/corpora/stopwords/english', 'r') as file:\n",
    "    sw = file.read().splitlines()"
   ]
  },
  {
   "cell_type": "code",
   "execution_count": 34,
   "id": "b4c75738-ce1f-461d-b7fc-ab8ed489357c",
   "metadata": {},
   "outputs": [],
   "source": [
    "vocab = pd.read_csv('../static/model/vocabulary.txt', header=None)\n",
    "tokens = vocab[0].tolist()"
   ]
  },
  {
   "cell_type": "code",
   "execution_count": 35,
   "id": "2eb8a8be-4094-4a90-a985-eb1ab8c333d9",
   "metadata": {},
   "outputs": [
    {
     "name": "stderr",
     "output_type": "stream",
     "text": [
      "[nltk_data] Downloading package stopwords to\n",
      "[nltk_data]     C:\\Users\\HI\\AppData\\Roaming\\nltk_data...\n",
      "[nltk_data]   Package stopwords is already up-to-date!\n",
      "[nltk_data] Downloading package punkt to\n",
      "[nltk_data]     C:\\Users\\HI\\AppData\\Roaming\\nltk_data...\n",
      "[nltk_data]   Package punkt is already up-to-date!\n"
     ]
    }
   ],
   "source": [
    "from nltk.corpus import stopwords\n",
    "from nltk.tokenize import word_tokenize\n",
    "\n",
    "nltk.download('stopwords')\n",
    "nltk.download('punkt')\n",
    "\n",
    "def remove_stopwords(text):\n",
    "    # Tokenize the text into words\n",
    "    words = word_tokenize(text)\n",
    "    \n",
    "    # Remove stopwords\n",
    "    filtered_words = [word for word in words if word.lower() not in stopwords.words('english')]\n",
    "    \n",
    "    # Join the filtered words back into a sentence\n",
    "    text_without_stopwords = ' '.join(filtered_words)\n",
    "    \n",
    "    return text_without_stopwords"
   ]
  },
  {
   "cell_type": "code",
   "execution_count": 36,
   "id": "b91ad890-25c3-48f8-a11a-96d28d203f82",
   "metadata": {},
   "outputs": [
    {
     "name": "stderr",
     "output_type": "stream",
     "text": [
      "[nltk_data] Downloading package punkt to\n",
      "[nltk_data]     C:\\Users\\HI\\AppData\\Roaming\\nltk_data...\n",
      "[nltk_data]   Package punkt is already up-to-date!\n"
     ]
    }
   ],
   "source": [
    "import nltk\n",
    "from nltk.stem import PorterStemmer\n",
    "from nltk.tokenize import word_tokenize\n",
    "\n",
    "nltk.download('punkt')\n",
    "\n",
    "def apply_stemming(text):\n",
    "    # Tokenize the text into words\n",
    "    words = word_tokenize(text)\n",
    "    \n",
    "    # Initialize the Porter Stemmer\n",
    "    porter_stemmer = PorterStemmer()\n",
    "    \n",
    "    # Apply stemming to each word\n",
    "    stemmed_words = [porter_stemmer.stem(word) for word in words]\n",
    "    \n",
    "    # Join the stemmed words back into a sentence\n",
    "    text_after_stemming = ' '.join(stemmed_words)\n",
    "    \n",
    "    return text_after_stemming"
   ]
  },
  {
   "cell_type": "code",
   "execution_count": 37,
   "id": "80b55e79-8f00-46eb-b19c-274c1f6c1d92",
   "metadata": {},
   "outputs": [],
   "source": [
    "def preprocessing(text):\n",
    "    data = pd.DataFrame([text], columns=['tweet'])\n",
    "    data['tweet'] = data['tweet'].apply(lambda x: \" \".join(x.lower () for x in x.split()))\n",
    "    data[\"tweet\"] = data[\"tweet\"].apply(remove_links)\n",
    "    data[\"tweet\"] = data[\"tweet\"].apply(remove_punctuation)\n",
    "    data[\"tweet\"] = data[\"tweet\"].apply(remove_numbers)\n",
    "    data[\"tweet\"] = data[\"tweet\"].apply(remove_stopwords)\n",
    "    data[\"tweet\"] = data[\"tweet\"].apply(apply_stemming)\n",
    "    return data[\"tweet\"]"
   ]
  },
  {
   "cell_type": "code",
   "execution_count": 38,
   "id": "47ac3006-8d9b-47ef-a10b-3cc06714c5e1",
   "metadata": {},
   "outputs": [],
   "source": [
    "def vectorizer(ds, vocabulary):\n",
    "    vectorized_lst = []\n",
    "\n",
    "    for sentence in ds:\n",
    "        sentence_lst = np.zeros(len(vocabulary))\n",
    "\n",
    "        for i in range(len(vocabulary)):\n",
    "            if vocabulary[i] in sentence.split():\n",
    "                sentence_lst[i] = 1\n",
    "\n",
    "        vectorized_lst.append(sentence_lst)\n",
    "        \n",
    "    vectorized_lst_new = np.asarray(vectorized_lst, dtype = np.float32)\n",
    "        \n",
    "    return vectorized_lst_new"
   ]
  },
  {
   "cell_type": "code",
   "execution_count": 55,
   "id": "72cf561c-6808-4cb3-bcd0-cc306874a745",
   "metadata": {},
   "outputs": [],
   "source": [
    "def get_prediction(vectorized_text):\n",
    "    prediction = model.predict(vectorized_text)\n",
    "    if prediction == 1:\n",
    "        return 'negative'\n",
    "    else:\n",
    "        return 'positive'\n"
   ]
  },
  {
   "cell_type": "code",
   "execution_count": 70,
   "id": "5c978116-2304-40d5-81c5-a152a24f5651",
   "metadata": {},
   "outputs": [
    {
     "data": {
      "text/plain": [
       "'negative'"
      ]
     },
     "execution_count": 70,
     "metadata": {},
     "output_type": "execute_result"
    }
   ],
   "source": [
    "txt = \"hate\"\n",
    "preprocessed_text = preprocessing(txt)\n",
    "vectorized_text = vectorizer(preprocessed_text, tokens)\n",
    "prediction = get_prediction(vectorized_text)\n",
    "prediction"
   ]
  },
  {
   "cell_type": "code",
   "execution_count": null,
   "id": "78e24089-4e2d-4911-b2e6-886037041362",
   "metadata": {},
   "outputs": [],
   "source": []
  }
 ],
 "metadata": {
  "kernelspec": {
   "display_name": "Python 3 (ipykernel)",
   "language": "python",
   "name": "python3"
  },
  "language_info": {
   "codemirror_mode": {
    "name": "ipython",
    "version": 3
   },
   "file_extension": ".py",
   "mimetype": "text/x-python",
   "name": "python",
   "nbconvert_exporter": "python",
   "pygments_lexer": "ipython3",
   "version": "3.12.0"
  }
 },
 "nbformat": 4,
 "nbformat_minor": 5
}
